{
 "cells": [
  {
   "cell_type": "markdown",
   "metadata": {},
   "source": [
    "# Titanic Data Analysis - Ada Zamora"
   ]
  },
  {
   "cell_type": "markdown",
   "metadata": {},
   "source": [
    "I will use a dataset containing information of 891 of the 2224 passengers on the Titanic. This data includes passengers' age, ticket class, sex, name, among other variables."
   ]
  },
  {
   "cell_type": "markdown",
   "metadata": {},
   "source": [
    "## Questions I want to answer with this data:"
   ]
  },
  {
   "cell_type": "markdown",
   "metadata": {},
   "source": [
    "1. How are passengers distributed by age?\n",
    "2. What is the percentage of passengers by age, gender, ticket class and departure port?\n",
    "3. What is the percentage of passengers who died?  \n",
    "4. What is the amount of passengers who died and survived per class, gender and age?\n",
    "5. What are the survival rates when pairs of variables are combined?\n",
    "6. What is the approximate ticket fare by ticket class and departure port?\n"
   ]
  },
  {
   "cell_type": "code",
   "execution_count": 1,
   "metadata": {},
   "outputs": [
    {
     "data": {
      "text/html": [
       "<div>\n",
       "<style>\n",
       "    .dataframe thead tr:only-child th {\n",
       "        text-align: right;\n",
       "    }\n",
       "\n",
       "    .dataframe thead th {\n",
       "        text-align: left;\n",
       "    }\n",
       "\n",
       "    .dataframe tbody tr th {\n",
       "        vertical-align: top;\n",
       "    }\n",
       "</style>\n",
       "<table border=\"1\" class=\"dataframe\">\n",
       "  <thead>\n",
       "    <tr style=\"text-align: right;\">\n",
       "      <th></th>\n",
       "      <th>PassengerId</th>\n",
       "      <th>Survived</th>\n",
       "      <th>Pclass</th>\n",
       "      <th>Name</th>\n",
       "      <th>Sex</th>\n",
       "      <th>Age</th>\n",
       "      <th>SibSp</th>\n",
       "      <th>Parch</th>\n",
       "      <th>Ticket</th>\n",
       "      <th>Fare</th>\n",
       "      <th>Cabin</th>\n",
       "      <th>Embarked</th>\n",
       "    </tr>\n",
       "  </thead>\n",
       "  <tbody>\n",
       "    <tr>\n",
       "      <th>0</th>\n",
       "      <td>1</td>\n",
       "      <td>0</td>\n",
       "      <td>3</td>\n",
       "      <td>Braund, Mr. Owen Harris</td>\n",
       "      <td>male</td>\n",
       "      <td>22.0</td>\n",
       "      <td>1</td>\n",
       "      <td>0</td>\n",
       "      <td>A/5 21171</td>\n",
       "      <td>7.2500</td>\n",
       "      <td>NaN</td>\n",
       "      <td>S</td>\n",
       "    </tr>\n",
       "    <tr>\n",
       "      <th>1</th>\n",
       "      <td>2</td>\n",
       "      <td>1</td>\n",
       "      <td>1</td>\n",
       "      <td>Cumings, Mrs. John Bradley (Florence Briggs Th...</td>\n",
       "      <td>female</td>\n",
       "      <td>38.0</td>\n",
       "      <td>1</td>\n",
       "      <td>0</td>\n",
       "      <td>PC 17599</td>\n",
       "      <td>71.2833</td>\n",
       "      <td>C85</td>\n",
       "      <td>C</td>\n",
       "    </tr>\n",
       "    <tr>\n",
       "      <th>2</th>\n",
       "      <td>3</td>\n",
       "      <td>1</td>\n",
       "      <td>3</td>\n",
       "      <td>Heikkinen, Miss. Laina</td>\n",
       "      <td>female</td>\n",
       "      <td>26.0</td>\n",
       "      <td>0</td>\n",
       "      <td>0</td>\n",
       "      <td>STON/O2. 3101282</td>\n",
       "      <td>7.9250</td>\n",
       "      <td>NaN</td>\n",
       "      <td>S</td>\n",
       "    </tr>\n",
       "    <tr>\n",
       "      <th>3</th>\n",
       "      <td>4</td>\n",
       "      <td>1</td>\n",
       "      <td>1</td>\n",
       "      <td>Futrelle, Mrs. Jacques Heath (Lily May Peel)</td>\n",
       "      <td>female</td>\n",
       "      <td>35.0</td>\n",
       "      <td>1</td>\n",
       "      <td>0</td>\n",
       "      <td>113803</td>\n",
       "      <td>53.1000</td>\n",
       "      <td>C123</td>\n",
       "      <td>S</td>\n",
       "    </tr>\n",
       "    <tr>\n",
       "      <th>4</th>\n",
       "      <td>5</td>\n",
       "      <td>0</td>\n",
       "      <td>3</td>\n",
       "      <td>Allen, Mr. William Henry</td>\n",
       "      <td>male</td>\n",
       "      <td>35.0</td>\n",
       "      <td>0</td>\n",
       "      <td>0</td>\n",
       "      <td>373450</td>\n",
       "      <td>8.0500</td>\n",
       "      <td>NaN</td>\n",
       "      <td>S</td>\n",
       "    </tr>\n",
       "    <tr>\n",
       "      <th>5</th>\n",
       "      <td>6</td>\n",
       "      <td>0</td>\n",
       "      <td>3</td>\n",
       "      <td>Moran, Mr. James</td>\n",
       "      <td>male</td>\n",
       "      <td>NaN</td>\n",
       "      <td>0</td>\n",
       "      <td>0</td>\n",
       "      <td>330877</td>\n",
       "      <td>8.4583</td>\n",
       "      <td>NaN</td>\n",
       "      <td>Q</td>\n",
       "    </tr>\n",
       "    <tr>\n",
       "      <th>6</th>\n",
       "      <td>7</td>\n",
       "      <td>0</td>\n",
       "      <td>1</td>\n",
       "      <td>McCarthy, Mr. Timothy J</td>\n",
       "      <td>male</td>\n",
       "      <td>54.0</td>\n",
       "      <td>0</td>\n",
       "      <td>0</td>\n",
       "      <td>17463</td>\n",
       "      <td>51.8625</td>\n",
       "      <td>E46</td>\n",
       "      <td>S</td>\n",
       "    </tr>\n",
       "    <tr>\n",
       "      <th>7</th>\n",
       "      <td>8</td>\n",
       "      <td>0</td>\n",
       "      <td>3</td>\n",
       "      <td>Palsson, Master. Gosta Leonard</td>\n",
       "      <td>male</td>\n",
       "      <td>2.0</td>\n",
       "      <td>3</td>\n",
       "      <td>1</td>\n",
       "      <td>349909</td>\n",
       "      <td>21.0750</td>\n",
       "      <td>NaN</td>\n",
       "      <td>S</td>\n",
       "    </tr>\n",
       "    <tr>\n",
       "      <th>8</th>\n",
       "      <td>9</td>\n",
       "      <td>1</td>\n",
       "      <td>3</td>\n",
       "      <td>Johnson, Mrs. Oscar W (Elisabeth Vilhelmina Berg)</td>\n",
       "      <td>female</td>\n",
       "      <td>27.0</td>\n",
       "      <td>0</td>\n",
       "      <td>2</td>\n",
       "      <td>347742</td>\n",
       "      <td>11.1333</td>\n",
       "      <td>NaN</td>\n",
       "      <td>S</td>\n",
       "    </tr>\n",
       "    <tr>\n",
       "      <th>9</th>\n",
       "      <td>10</td>\n",
       "      <td>1</td>\n",
       "      <td>2</td>\n",
       "      <td>Nasser, Mrs. Nicholas (Adele Achem)</td>\n",
       "      <td>female</td>\n",
       "      <td>14.0</td>\n",
       "      <td>1</td>\n",
       "      <td>0</td>\n",
       "      <td>237736</td>\n",
       "      <td>30.0708</td>\n",
       "      <td>NaN</td>\n",
       "      <td>C</td>\n",
       "    </tr>\n",
       "  </tbody>\n",
       "</table>\n",
       "</div>"
      ],
      "text/plain": [
       "   PassengerId  Survived  Pclass  \\\n",
       "0            1         0       3   \n",
       "1            2         1       1   \n",
       "2            3         1       3   \n",
       "3            4         1       1   \n",
       "4            5         0       3   \n",
       "5            6         0       3   \n",
       "6            7         0       1   \n",
       "7            8         0       3   \n",
       "8            9         1       3   \n",
       "9           10         1       2   \n",
       "\n",
       "                                                Name     Sex   Age  SibSp  \\\n",
       "0                            Braund, Mr. Owen Harris    male  22.0      1   \n",
       "1  Cumings, Mrs. John Bradley (Florence Briggs Th...  female  38.0      1   \n",
       "2                             Heikkinen, Miss. Laina  female  26.0      0   \n",
       "3       Futrelle, Mrs. Jacques Heath (Lily May Peel)  female  35.0      1   \n",
       "4                           Allen, Mr. William Henry    male  35.0      0   \n",
       "5                                   Moran, Mr. James    male   NaN      0   \n",
       "6                            McCarthy, Mr. Timothy J    male  54.0      0   \n",
       "7                     Palsson, Master. Gosta Leonard    male   2.0      3   \n",
       "8  Johnson, Mrs. Oscar W (Elisabeth Vilhelmina Berg)  female  27.0      0   \n",
       "9                Nasser, Mrs. Nicholas (Adele Achem)  female  14.0      1   \n",
       "\n",
       "   Parch            Ticket     Fare Cabin Embarked  \n",
       "0      0         A/5 21171   7.2500   NaN        S  \n",
       "1      0          PC 17599  71.2833   C85        C  \n",
       "2      0  STON/O2. 3101282   7.9250   NaN        S  \n",
       "3      0            113803  53.1000  C123        S  \n",
       "4      0            373450   8.0500   NaN        S  \n",
       "5      0            330877   8.4583   NaN        Q  \n",
       "6      0             17463  51.8625   E46        S  \n",
       "7      1            349909  21.0750   NaN        S  \n",
       "8      2            347742  11.1333   NaN        S  \n",
       "9      0            237736  30.0708   NaN        C  "
      ]
     },
     "execution_count": 1,
     "metadata": {},
     "output_type": "execute_result"
    }
   ],
   "source": [
    "%matplotlib inline\n",
    "\n",
    "# Uploading the data:\n",
    "\n",
    "import pandas as pd\n",
    "import numpy as np\n",
    "import matplotlib\n",
    "from matplotlib import pylab, mlab, pyplot\n",
    "plt = pyplot\n",
    "\n",
    "\n",
    "filename = 'titanic-data.csv'\n",
    "titanic_df = pd.read_csv(filename)\n",
    "\n",
    "#Verifying if the file was uploaded correctly\n",
    "titanic_df.head(10)"
   ]
  },
  {
   "cell_type": "markdown",
   "metadata": {},
   "source": [
    "First of all, I want to use the function describe() to know a little about the data and have some insights of it"
   ]
  },
  {
   "cell_type": "code",
   "execution_count": 2,
   "metadata": {
    "scrolled": true
   },
   "outputs": [
    {
     "data": {
      "text/html": [
       "<div>\n",
       "<style>\n",
       "    .dataframe thead tr:only-child th {\n",
       "        text-align: right;\n",
       "    }\n",
       "\n",
       "    .dataframe thead th {\n",
       "        text-align: left;\n",
       "    }\n",
       "\n",
       "    .dataframe tbody tr th {\n",
       "        vertical-align: top;\n",
       "    }\n",
       "</style>\n",
       "<table border=\"1\" class=\"dataframe\">\n",
       "  <thead>\n",
       "    <tr style=\"text-align: right;\">\n",
       "      <th></th>\n",
       "      <th>PassengerId</th>\n",
       "      <th>Survived</th>\n",
       "      <th>Pclass</th>\n",
       "      <th>Age</th>\n",
       "      <th>SibSp</th>\n",
       "      <th>Parch</th>\n",
       "      <th>Fare</th>\n",
       "    </tr>\n",
       "  </thead>\n",
       "  <tbody>\n",
       "    <tr>\n",
       "      <th>count</th>\n",
       "      <td>891.000000</td>\n",
       "      <td>891.000000</td>\n",
       "      <td>891.000000</td>\n",
       "      <td>714.000000</td>\n",
       "      <td>891.000000</td>\n",
       "      <td>891.000000</td>\n",
       "      <td>891.000000</td>\n",
       "    </tr>\n",
       "    <tr>\n",
       "      <th>mean</th>\n",
       "      <td>446.000000</td>\n",
       "      <td>0.383838</td>\n",
       "      <td>2.308642</td>\n",
       "      <td>29.699118</td>\n",
       "      <td>0.523008</td>\n",
       "      <td>0.381594</td>\n",
       "      <td>32.204208</td>\n",
       "    </tr>\n",
       "    <tr>\n",
       "      <th>std</th>\n",
       "      <td>257.353842</td>\n",
       "      <td>0.486592</td>\n",
       "      <td>0.836071</td>\n",
       "      <td>14.526497</td>\n",
       "      <td>1.102743</td>\n",
       "      <td>0.806057</td>\n",
       "      <td>49.693429</td>\n",
       "    </tr>\n",
       "    <tr>\n",
       "      <th>min</th>\n",
       "      <td>1.000000</td>\n",
       "      <td>0.000000</td>\n",
       "      <td>1.000000</td>\n",
       "      <td>0.420000</td>\n",
       "      <td>0.000000</td>\n",
       "      <td>0.000000</td>\n",
       "      <td>0.000000</td>\n",
       "    </tr>\n",
       "    <tr>\n",
       "      <th>25%</th>\n",
       "      <td>223.500000</td>\n",
       "      <td>0.000000</td>\n",
       "      <td>2.000000</td>\n",
       "      <td>20.125000</td>\n",
       "      <td>0.000000</td>\n",
       "      <td>0.000000</td>\n",
       "      <td>7.910400</td>\n",
       "    </tr>\n",
       "    <tr>\n",
       "      <th>50%</th>\n",
       "      <td>446.000000</td>\n",
       "      <td>0.000000</td>\n",
       "      <td>3.000000</td>\n",
       "      <td>28.000000</td>\n",
       "      <td>0.000000</td>\n",
       "      <td>0.000000</td>\n",
       "      <td>14.454200</td>\n",
       "    </tr>\n",
       "    <tr>\n",
       "      <th>75%</th>\n",
       "      <td>668.500000</td>\n",
       "      <td>1.000000</td>\n",
       "      <td>3.000000</td>\n",
       "      <td>38.000000</td>\n",
       "      <td>1.000000</td>\n",
       "      <td>0.000000</td>\n",
       "      <td>31.000000</td>\n",
       "    </tr>\n",
       "    <tr>\n",
       "      <th>max</th>\n",
       "      <td>891.000000</td>\n",
       "      <td>1.000000</td>\n",
       "      <td>3.000000</td>\n",
       "      <td>80.000000</td>\n",
       "      <td>8.000000</td>\n",
       "      <td>6.000000</td>\n",
       "      <td>512.329200</td>\n",
       "    </tr>\n",
       "  </tbody>\n",
       "</table>\n",
       "</div>"
      ],
      "text/plain": [
       "       PassengerId    Survived      Pclass         Age       SibSp  \\\n",
       "count   891.000000  891.000000  891.000000  714.000000  891.000000   \n",
       "mean    446.000000    0.383838    2.308642   29.699118    0.523008   \n",
       "std     257.353842    0.486592    0.836071   14.526497    1.102743   \n",
       "min       1.000000    0.000000    1.000000    0.420000    0.000000   \n",
       "25%     223.500000    0.000000    2.000000   20.125000    0.000000   \n",
       "50%     446.000000    0.000000    3.000000   28.000000    0.000000   \n",
       "75%     668.500000    1.000000    3.000000   38.000000    1.000000   \n",
       "max     891.000000    1.000000    3.000000   80.000000    8.000000   \n",
       "\n",
       "            Parch        Fare  \n",
       "count  891.000000  891.000000  \n",
       "mean     0.381594   32.204208  \n",
       "std      0.806057   49.693429  \n",
       "min      0.000000    0.000000  \n",
       "25%      0.000000    7.910400  \n",
       "50%      0.000000   14.454200  \n",
       "75%      0.000000   31.000000  \n",
       "max      6.000000  512.329200  "
      ]
     },
     "execution_count": 2,
     "metadata": {},
     "output_type": "execute_result"
    }
   ],
   "source": [
    "titanic_df.describe()"
   ]
  },
  {
   "cell_type": "markdown",
   "metadata": {},
   "source": [
    "Above I can see several things about the data, like the mean age of passengers (29 years old) and that we only have age data of 714 of the 891 passenger's in the data set. \n",
    "\n",
    "I also see that the average ticket fare is around 32 (the currency of this price is not described in the data set, nor in the kaggle description of the data set).\n",
    "\n",
    "The survived column is filled with zeros and ones, meaning 1 that the passenger survived 0 otherwise. This column's mean is 0.38, which gives an insight that almost 60% of the titanic passengers died. We'll go in more depth about this when answering the defined questions."
   ]
  },
  {
   "cell_type": "markdown",
   "metadata": {},
   "source": [
    "### Data Wrangling "
   ]
  },
  {
   "cell_type": "markdown",
   "metadata": {},
   "source": [
    "Now I want to check if there are some missing values in the data, when I used the describe() function I spotted missing values in the Age column, but as the describe function only takes into consideration the numerical columns, I'll check for missing values in all columns of the data frame."
   ]
  },
  {
   "cell_type": "code",
   "execution_count": 3,
   "metadata": {
    "scrolled": false
   },
   "outputs": [
    {
     "data": {
      "text/plain": [
       "PassengerId      0\n",
       "Survived         0\n",
       "Pclass           0\n",
       "Name             0\n",
       "Sex              0\n",
       "Age            177\n",
       "SibSp            0\n",
       "Parch            0\n",
       "Ticket           0\n",
       "Fare             0\n",
       "Cabin          687\n",
       "Embarked         2\n",
       "dtype: int64"
      ]
     },
     "execution_count": 3,
     "metadata": {},
     "output_type": "execute_result"
    }
   ],
   "source": [
    "titanic_df.isnull().sum()"
   ]
  },
  {
   "cell_type": "markdown",
   "metadata": {},
   "source": [
    "Using the isnull() function I confirmed that there are 177 missing values in the Age column and I found missing values in the Cabin and Embarked column.\n",
    "\n",
    "My plan to handle the missing values per column is the following:\n",
    "- For the Age column, I'll delete the missing values. As the amount of missing values in this column is significant, I'll create a new data frame that excludes the missing values and I'll use that data frame any time I want to use the Age variable. Otherwise, I'll use the entire data set.\n",
    "- The Cabin variable has 687 missing values of the 891 of the data frame, that represents a 77% of missing values, which is a very high number. As I'm not planning to use the Cabin variable for my data analysis, I will delete the entire column from the data frame.\n",
    "- The Embarked column has only 2 missing values, so I'll use the column as it is, with the missing values.\n"
   ]
  },
  {
   "cell_type": "code",
   "execution_count": 4,
   "metadata": {},
   "outputs": [
    {
     "data": {
      "text/html": [
       "<div>\n",
       "<style>\n",
       "    .dataframe thead tr:only-child th {\n",
       "        text-align: right;\n",
       "    }\n",
       "\n",
       "    .dataframe thead th {\n",
       "        text-align: left;\n",
       "    }\n",
       "\n",
       "    .dataframe tbody tr th {\n",
       "        vertical-align: top;\n",
       "    }\n",
       "</style>\n",
       "<table border=\"1\" class=\"dataframe\">\n",
       "  <thead>\n",
       "    <tr style=\"text-align: right;\">\n",
       "      <th></th>\n",
       "      <th>PassengerId</th>\n",
       "      <th>Survived</th>\n",
       "      <th>Pclass</th>\n",
       "      <th>Name</th>\n",
       "      <th>Sex</th>\n",
       "      <th>Age</th>\n",
       "      <th>SibSp</th>\n",
       "      <th>Parch</th>\n",
       "      <th>Ticket</th>\n",
       "      <th>Fare</th>\n",
       "      <th>Embarked</th>\n",
       "    </tr>\n",
       "  </thead>\n",
       "  <tbody>\n",
       "    <tr>\n",
       "      <th>0</th>\n",
       "      <td>1</td>\n",
       "      <td>0</td>\n",
       "      <td>3</td>\n",
       "      <td>Braund, Mr. Owen Harris</td>\n",
       "      <td>male</td>\n",
       "      <td>22.0</td>\n",
       "      <td>1</td>\n",
       "      <td>0</td>\n",
       "      <td>A/5 21171</td>\n",
       "      <td>7.2500</td>\n",
       "      <td>S</td>\n",
       "    </tr>\n",
       "    <tr>\n",
       "      <th>1</th>\n",
       "      <td>2</td>\n",
       "      <td>1</td>\n",
       "      <td>1</td>\n",
       "      <td>Cumings, Mrs. John Bradley (Florence Briggs Th...</td>\n",
       "      <td>female</td>\n",
       "      <td>38.0</td>\n",
       "      <td>1</td>\n",
       "      <td>0</td>\n",
       "      <td>PC 17599</td>\n",
       "      <td>71.2833</td>\n",
       "      <td>C</td>\n",
       "    </tr>\n",
       "    <tr>\n",
       "      <th>2</th>\n",
       "      <td>3</td>\n",
       "      <td>1</td>\n",
       "      <td>3</td>\n",
       "      <td>Heikkinen, Miss. Laina</td>\n",
       "      <td>female</td>\n",
       "      <td>26.0</td>\n",
       "      <td>0</td>\n",
       "      <td>0</td>\n",
       "      <td>STON/O2. 3101282</td>\n",
       "      <td>7.9250</td>\n",
       "      <td>S</td>\n",
       "    </tr>\n",
       "    <tr>\n",
       "      <th>3</th>\n",
       "      <td>4</td>\n",
       "      <td>1</td>\n",
       "      <td>1</td>\n",
       "      <td>Futrelle, Mrs. Jacques Heath (Lily May Peel)</td>\n",
       "      <td>female</td>\n",
       "      <td>35.0</td>\n",
       "      <td>1</td>\n",
       "      <td>0</td>\n",
       "      <td>113803</td>\n",
       "      <td>53.1000</td>\n",
       "      <td>S</td>\n",
       "    </tr>\n",
       "    <tr>\n",
       "      <th>4</th>\n",
       "      <td>5</td>\n",
       "      <td>0</td>\n",
       "      <td>3</td>\n",
       "      <td>Allen, Mr. William Henry</td>\n",
       "      <td>male</td>\n",
       "      <td>35.0</td>\n",
       "      <td>0</td>\n",
       "      <td>0</td>\n",
       "      <td>373450</td>\n",
       "      <td>8.0500</td>\n",
       "      <td>S</td>\n",
       "    </tr>\n",
       "  </tbody>\n",
       "</table>\n",
       "</div>"
      ],
      "text/plain": [
       "   PassengerId  Survived  Pclass  \\\n",
       "0            1         0       3   \n",
       "1            2         1       1   \n",
       "2            3         1       3   \n",
       "3            4         1       1   \n",
       "4            5         0       3   \n",
       "\n",
       "                                                Name     Sex   Age  SibSp  \\\n",
       "0                            Braund, Mr. Owen Harris    male  22.0      1   \n",
       "1  Cumings, Mrs. John Bradley (Florence Briggs Th...  female  38.0      1   \n",
       "2                             Heikkinen, Miss. Laina  female  26.0      0   \n",
       "3       Futrelle, Mrs. Jacques Heath (Lily May Peel)  female  35.0      1   \n",
       "4                           Allen, Mr. William Henry    male  35.0      0   \n",
       "\n",
       "   Parch            Ticket     Fare Embarked  \n",
       "0      0         A/5 21171   7.2500        S  \n",
       "1      0          PC 17599  71.2833        C  \n",
       "2      0  STON/O2. 3101282   7.9250        S  \n",
       "3      0            113803  53.1000        S  \n",
       "4      0            373450   8.0500        S  "
      ]
     },
     "execution_count": 4,
     "metadata": {},
     "output_type": "execute_result"
    }
   ],
   "source": [
    "# Deleting the Cabin column\n",
    "\n",
    "titanic_df.drop(['Cabin'], axis=1, inplace=True)\n",
    "\n",
    "# Verifying if the column was deleted correctly\n",
    "\n",
    "titanic_df.head()"
   ]
  },
  {
   "cell_type": "code",
   "execution_count": 5,
   "metadata": {
    "collapsed": true
   },
   "outputs": [],
   "source": [
    "# Creating a new data frame that excludes the missing age values \n",
    "\n",
    "titanic_valid_ages = titanic_df.dropna(subset=[\"Age\"]).copy()"
   ]
  },
  {
   "cell_type": "markdown",
   "metadata": {},
   "source": [
    "### 1. How are passengers distributed by age?"
   ]
  },
  {
   "cell_type": "markdown",
   "metadata": {},
   "source": [
    "To answer this question, I'll create an histogram to visualize the age of all passengers:"
   ]
  },
  {
   "cell_type": "code",
   "execution_count": 6,
   "metadata": {},
   "outputs": [
    {
     "data": {
      "text/plain": [
       "<matplotlib.figure.Figure at 0xaed4748>"
      ]
     },
     "metadata": {},
     "output_type": "display_data"
    },
    {
     "data": {
      "image/png": "[encoded data removed]",
      "text/plain": [
       "<matplotlib.figure.Figure at 0xaeaba90>"
      ]
     },
     "metadata": {},
     "output_type": "display_data"
    }
   ],
   "source": [
    "plt.figure()\n",
    "titanic_valid_ages.hist('Age', bins = 10)\n",
    "plt.xlabel(\"Passenger's age\")\n",
    "plt.ylabel('Number of passengers')\n",
    "plt.title(\"Histogram of passenger's age\")\n",
    "plt.show()"
   ]
  },
  {
   "cell_type": "markdown",
   "metadata": {},
   "source": [
    "With these results I see that most of the passengers are between 18 and 40 years old, so decide to segregate the passengers by age group, defining the groups ages as follow:\n",
    "<br/>\n",
    "Group A: from 0 to 17 years old <br/>\n",
    "Group B: from 18 to 40 years old <br/>\n",
    "Group C: from 41 to 80 years old <br/> <br/>\n",
    "Now, I'll calculate the age group for each passenger whose age we know and add it to the data frame. "
   ]
  },
  {
   "cell_type": "code",
   "execution_count": 7,
   "metadata": {
    "collapsed": true
   },
   "outputs": [],
   "source": [
    "#Creating a new column in the data frame called 'Age Group'\n",
    "\n",
    "titanic_valid_ages['Age group'] = 0\n",
    "titanic_valid_ages\n",
    "\n",
    "# Now I want to change the order of the columns in the data frame, to have the Age group column next to the age column\n",
    "cols = list(titanic_valid_ages.columns.values)\n",
    "titanic_valid_ages = titanic_valid_ages.loc[:,('PassengerId', 'Survived', 'Pclass', 'Name', 'Sex', 'Age', 'Age group', 'SibSp', \n",
    "                                         'Parch','Ticket', 'Fare', 'Embarked')]"
   ]
  },
  {
   "cell_type": "code",
   "execution_count": 8,
   "metadata": {},
   "outputs": [
    {
     "data": {
      "text/html": [
       "<div>\n",
       "<style>\n",
       "    .dataframe thead tr:only-child th {\n",
       "        text-align: right;\n",
       "    }\n",
       "\n",
       "    .dataframe thead th {\n",
       "        text-align: left;\n",
       "    }\n",
       "\n",
       "    .dataframe tbody tr th {\n",
       "        vertical-align: top;\n",
       "    }\n",
       "</style>\n",
       "<table border=\"1\" class=\"dataframe\">\n",
       "  <thead>\n",
       "    <tr style=\"text-align: right;\">\n",
       "      <th></th>\n",
       "      <th>PassengerId</th>\n",
       "      <th>Survived</th>\n",
       "      <th>Pclass</th>\n",
       "      <th>Name</th>\n",
       "      <th>Sex</th>\n",
       "      <th>Age</th>\n",
       "      <th>Age group</th>\n",
       "      <th>SibSp</th>\n",
       "      <th>Parch</th>\n",
       "      <th>Ticket</th>\n",
       "      <th>Fare</th>\n",
       "      <th>Embarked</th>\n",
       "    </tr>\n",
       "  </thead>\n",
       "  <tbody>\n",
       "    <tr>\n",
       "      <th>0</th>\n",
       "      <td>1</td>\n",
       "      <td>0</td>\n",
       "      <td>3</td>\n",
       "      <td>Braund, Mr. Owen Harris</td>\n",
       "      <td>male</td>\n",
       "      <td>22.0</td>\n",
       "      <td>2</td>\n",
       "      <td>1</td>\n",
       "      <td>0</td>\n",
       "      <td>A/5 21171</td>\n",
       "      <td>7.2500</td>\n",
       "      <td>S</td>\n",
       "    </tr>\n",
       "    <tr>\n",
       "      <th>1</th>\n",
       "      <td>2</td>\n",
       "      <td>1</td>\n",
       "      <td>1</td>\n",
       "      <td>Cumings, Mrs. John Bradley (Florence Briggs Th...</td>\n",
       "      <td>female</td>\n",
       "      <td>38.0</td>\n",
       "      <td>2</td>\n",
       "      <td>1</td>\n",
       "      <td>0</td>\n",
       "      <td>PC 17599</td>\n",
       "      <td>71.2833</td>\n",
       "      <td>C</td>\n",
       "    </tr>\n",
       "    <tr>\n",
       "      <th>2</th>\n",
       "      <td>3</td>\n",
       "      <td>1</td>\n",
       "      <td>3</td>\n",
       "      <td>Heikkinen, Miss. Laina</td>\n",
       "      <td>female</td>\n",
       "      <td>26.0</td>\n",
       "      <td>2</td>\n",
       "      <td>0</td>\n",
       "      <td>0</td>\n",
       "      <td>STON/O2. 3101282</td>\n",
       "      <td>7.9250</td>\n",
       "      <td>S</td>\n",
       "    </tr>\n",
       "    <tr>\n",
       "      <th>3</th>\n",
       "      <td>4</td>\n",
       "      <td>1</td>\n",
       "      <td>1</td>\n",
       "      <td>Futrelle, Mrs. Jacques Heath (Lily May Peel)</td>\n",
       "      <td>female</td>\n",
       "      <td>35.0</td>\n",
       "      <td>2</td>\n",
       "      <td>1</td>\n",
       "      <td>0</td>\n",
       "      <td>113803</td>\n",
       "      <td>53.1000</td>\n",
       "      <td>S</td>\n",
       "    </tr>\n",
       "    <tr>\n",
       "      <th>4</th>\n",
       "      <td>5</td>\n",
       "      <td>0</td>\n",
       "      <td>3</td>\n",
       "      <td>Allen, Mr. William Henry</td>\n",
       "      <td>male</td>\n",
       "      <td>35.0</td>\n",
       "      <td>2</td>\n",
       "      <td>0</td>\n",
       "      <td>0</td>\n",
       "      <td>373450</td>\n",
       "      <td>8.0500</td>\n",
       "      <td>S</td>\n",
       "    </tr>\n",
       "  </tbody>\n",
       "</table>\n",
       "</div>"
      ],
      "text/plain": [
       "   PassengerId  Survived  Pclass  \\\n",
       "0            1         0       3   \n",
       "1            2         1       1   \n",
       "2            3         1       3   \n",
       "3            4         1       1   \n",
       "4            5         0       3   \n",
       "\n",
       "                                                Name     Sex   Age  Age group  \\\n",
       "0                            Braund, Mr. Owen Harris    male  22.0          2   \n",
       "1  Cumings, Mrs. John Bradley (Florence Briggs Th...  female  38.0          2   \n",
       "2                             Heikkinen, Miss. Laina  female  26.0          2   \n",
       "3       Futrelle, Mrs. Jacques Heath (Lily May Peel)  female  35.0          2   \n",
       "4                           Allen, Mr. William Henry    male  35.0          2   \n",
       "\n",
       "   SibSp  Parch            Ticket     Fare Embarked  \n",
       "0      1      0         A/5 21171   7.2500        S  \n",
       "1      1      0          PC 17599  71.2833        C  \n",
       "2      0      0  STON/O2. 3101282   7.9250        S  \n",
       "3      1      0            113803  53.1000        S  \n",
       "4      0      0            373450   8.0500        S  "
      ]
     },
     "execution_count": 8,
     "metadata": {},
     "output_type": "execute_result"
    }
   ],
   "source": [
    "# I'll create a function to apply to the dataset to add an age group to every passengger's age\n",
    "\n",
    "def set_age_group(age):\n",
    "    \"\"\"Outputs an age group given a valid age.\"\"\"\n",
    "    if 0 <= age <= 17:\n",
    "        return 1\n",
    "    elif 17 < age <= 40:\n",
    "        return 2\n",
    "    elif age > 40:\n",
    "        return 3\n",
    "    \n",
    "# Applying the function to the data frame\n",
    "titanic_valid_ages['Age group'] = titanic_valid_ages['Age'].map(set_age_group)\n",
    "\n",
    "# Now I want to verify if the function was applied correctly\n",
    "titanic_valid_ages.head()"
   ]
  },
  {
   "cell_type": "markdown",
   "metadata": {},
   "source": [
    "## 2. What is the percentage of passengers by age, gender, ticket class and departure port?"
   ]
  },
  {
   "cell_type": "markdown",
   "metadata": {},
   "source": [
    "To answer this question, I'll create a function where I can input the column I want to study and then I can get some statistics about it and a pie plot of the corresponding percentages."
   ]
  },
  {
   "cell_type": "code",
   "execution_count": 9,
   "metadata": {
    "collapsed": true
   },
   "outputs": [],
   "source": [
    "def group_data_by_column(column_to_group):\n",
    "    \"\"\" Groups data by a given column and returns the grouped data. If the column is 'Age' or 'Age group', it uses the data \n",
    "    frame with the ages, (titanic_valid_ages), otherwise, it uses the entire dataset\n",
    "    \n",
    "    column_to_group: a string containing the name of the column to group\n",
    "    \"\"\"\n",
    "    if column_to_group in ('Age', 'Age group'):\n",
    "        df = titanic_valid_ages\n",
    "    else:\n",
    "        df = titanic_df    \n",
    "    return df.groupby(column_to_group, as_index = False).size() \n",
    "\n",
    "\n",
    "def create_pie_plot(column_to_plot, labels_for_plot, plot_title):\n",
    "    \"\"\" Plots a pie plot given a column and prints the absolute values used to calculate the percentages for the plot. \n",
    "    The input column is grouped before making the plot using the group_data_by_column function.\n",
    "    \n",
    "    column_to_plot: a string containing the name of the column to plot\n",
    "    labels_for_plot: list of strings, containing the labels for the groups\n",
    "    plot_title: sting containing the title of the plot\n",
    "    \"\"\"\n",
    "    grouped_data = group_data_by_column(column_to_plot)\n",
    "    plt.figure(figsize=[5,5])\n",
    "    plt.pie(grouped_data, labels=labels_for_plot, autopct='%.2f%%') \n",
    "    plt.title(plot_title)\n",
    "    plt.show()\n",
    "    print grouped_data"
   ]
  },
  {
   "cell_type": "markdown",
   "metadata": {},
   "source": [
    "Now I'll use the above function to create several pie charts to describe the data. All data in pie charts is presented in percentages, and below each chart, there's a table with the relative values used to obtain the percentages."
   ]
  },
  {
   "cell_type": "markdown",
   "metadata": {},
   "source": [
    "### Percentage of passengers aboard the Titanic by age group\n"
   ]
  },
  {
   "cell_type": "code",
   "execution_count": 10,
   "metadata": {
    "scrolled": false
   },
   "outputs": [
    {
     "data": {
      "image/png": "[encoded data removed]",
      "text/plain": [
       "<matplotlib.figure.Figure at 0xb0a09b0>"
      ]
     },
     "metadata": {},
     "output_type": "display_data"
    },
    {
     "name": "stdout",
     "output_type": "stream",
     "text": [
      "Age group\n",
      "1    113\n",
      "2    451\n",
      "3    150\n",
      "dtype: int64\n"
     ]
    }
   ],
   "source": [
    "create_pie_plot('Age group', ['Age group 1', 'Age group 2', 'Age group 3'], \"Passenger's age distribution\")"
   ]
  },
  {
   "cell_type": "markdown",
   "metadata": {},
   "source": [
    "In this plot we can see that 15.8% of the passenger's are between 0 and 17 years old, 63.2% between 18 and 40 years old and 21% older than 41 years. When I used the describe function to the whole data set above, the maximum age of passengers was 80 years old, so I can say that this 21% of passengers is between 41 and 80 years old."
   ]
  },
  {
   "cell_type": "markdown",
   "metadata": {},
   "source": [
    "### Percentage of passengers aboard the Titanic by gender\n"
   ]
  },
  {
   "cell_type": "code",
   "execution_count": 11,
   "metadata": {},
   "outputs": [
    {
     "data": {
      "image/png": "[encoded data removed]",
      "text/plain": [
       "<matplotlib.figure.Figure at 0xb1f7dd8>"
      ]
     },
     "metadata": {},
     "output_type": "display_data"
    },
    {
     "name": "stdout",
     "output_type": "stream",
     "text": [
      "Sex\n",
      "female    314\n",
      "male      577\n",
      "dtype: int64\n"
     ]
    }
   ],
   "source": [
    "create_pie_plot('Sex', ['Female', 'Male'], \"Passenger's distibution by gender\")"
   ]
  },
  {
   "cell_type": "markdown",
   "metadata": {},
   "source": [
    "### Percentage of passengers aboard the Titanic by ticket fare class\n"
   ]
  },
  {
   "cell_type": "code",
   "execution_count": 12,
   "metadata": {
    "scrolled": false
   },
   "outputs": [
    {
     "data": {
      "image/png": "[encoded data removed]",
      "text/plain": [
       "<matplotlib.figure.Figure at 0xb221160>"
      ]
     },
     "metadata": {},
     "output_type": "display_data"
    },
    {
     "name": "stdout",
     "output_type": "stream",
     "text": [
      "Pclass\n",
      "1    216\n",
      "2    184\n",
      "3    491\n",
      "dtype: int64\n"
     ]
    }
   ],
   "source": [
    "create_pie_plot('Pclass', ['Class 1', 'Class 2', 'Class 3'], \"Passenger's distribution by ticket fare class\")"
   ]
  },
  {
   "cell_type": "markdown",
   "metadata": {},
   "source": [
    "### Percentage of passengers who boarded the Titanic in each port"
   ]
  },
  {
   "cell_type": "code",
   "execution_count": 13,
   "metadata": {},
   "outputs": [
    {
     "data": {
      "image/png": "[encoded data removed]",
      "text/plain": [
       "<matplotlib.figure.Figure at 0xb533710>"
      ]
     },
     "metadata": {},
     "output_type": "display_data"
    },
    {
     "name": "stdout",
     "output_type": "stream",
     "text": [
      "Embarked\n",
      "C    168\n",
      "Q     77\n",
      "S    644\n",
      "dtype: int64\n"
     ]
    }
   ],
   "source": [
    "create_pie_plot('Embarked', ['Cherbourg', 'Queenstown', 'Southampton'], \"Passengers who boarded in each port\" )"
   ]
  },
  {
   "cell_type": "markdown",
   "metadata": {},
   "source": [
    "## 3. What is the percentage of passengers who died?  "
   ]
  },
  {
   "cell_type": "markdown",
   "metadata": {},
   "source": [
    "To answer this question, I'll use the functions I developed for question 2."
   ]
  },
  {
   "cell_type": "code",
   "execution_count": 14,
   "metadata": {
    "scrolled": false
   },
   "outputs": [
    {
     "data": {
      "image/png": "[encoded data removed]",
      "text/plain": [
       "<matplotlib.figure.Figure at 0xb6e6d30>"
      ]
     },
     "metadata": {},
     "output_type": "display_data"
    },
    {
     "name": "stdout",
     "output_type": "stream",
     "text": [
      "Survived\n",
      "0    549\n",
      "1    342\n",
      "dtype: int64\n"
     ]
    }
   ],
   "source": [
    "create_pie_plot('Survived', ['Died', 'Survived'], \"Percentage of passanger's who died and survived\")"
   ]
  },
  {
   "cell_type": "markdown",
   "metadata": {},
   "source": [
    "Here we can see that only 38.4% of passenger's survived the Titanic disaster, while 61.6% died, which represents 342 and 549 passengers, respectively. This verifies the statistics seen when the describe function was applied to the entire data set and the mean of the survived column was 0.3838"
   ]
  },
  {
   "cell_type": "markdown",
   "metadata": {},
   "source": [
    "## 4. What is the amount of passengers who died and survived per class, gender and age?"
   ]
  },
  {
   "cell_type": "markdown",
   "metadata": {},
   "source": [
    "To answer this, I'll create two functions. One, to segregate the passengers who died and survived by the desired variable and another one to plot the results in a combined bar chart."
   ]
  },
  {
   "cell_type": "code",
   "execution_count": 15,
   "metadata": {
    "collapsed": true
   },
   "outputs": [],
   "source": [
    "def group_survivors_by(column_to_group):\n",
    "    \"\"\"Returns the number of passengers who died and survived per variable.\"\"\"\n",
    "    if column_to_group in ('Age', 'Age group'):\n",
    "        df = titanic_valid_ages\n",
    "    else:\n",
    "        df = titanic_df\n",
    "    survivors = df.groupby(['Survived', column_to_group], as_index = False).size()\n",
    "    passangers_died = survivors.iloc[survivors.index.get_level_values('Survived') == 0]\n",
    "    passangers_survived = survivors.iloc[survivors.index.get_level_values('Survived') == 1]\n",
    "    return passangers_died, passangers_survived"
   ]
  },
  {
   "cell_type": "code",
   "execution_count": 16,
   "metadata": {
    "collapsed": true
   },
   "outputs": [],
   "source": [
    "def generate_combined_bar_chart(data_list, x_label, y_label, chart_title, index_array): \n",
    "    \"\"\"Creates a combined bar plot.\n",
    "    \n",
    "    data_list: list of dictionaries of type {'label': 'label of the bar', 'value': values to plot}\n",
    "    x_label, y_label and chart_title should be strings. \n",
    "    index_array: list of strings containing the titles for each set of bars in the chart. \n",
    "    \"\"\"\n",
    "    fig, ax = plt.subplots()\n",
    "    index = np.arange(len(index_array))\n",
    "    n_bars = len(data_list)\n",
    "    colors_list = ['C0', 'C1', 'C2', 'C3', 'C4']\n",
    "    bar_width = 0.7/n_bars\n",
    "    plt.xticks(index + (bar_width * n_bars / 2) - 0.5 * bar_width, index_array)\n",
    "    \n",
    "    for i, data_value in enumerate(data_list):\n",
    "        color = colors_list[i % len(colors_list)]\n",
    "        label = data_value['label']\n",
    "        plt.bar(index + i*bar_width, data_value['value'], width = bar_width, color=color, label=label)\n",
    "    \n",
    "    \n",
    "    plt.xlabel(x_label)\n",
    "    plt.ylabel(y_label)\n",
    "    plt.title(chart_title)\n",
    "    plt.legend(bbox_to_anchor=(1.35, 0.7), loc='center right', ncol=1)\n",
    "    plt.tight_layout()\n",
    "    return plt.show()"
   ]
  },
  {
   "cell_type": "markdown",
   "metadata": {},
   "source": [
    "### Amount of passengers who died and survived by ticket fare class"
   ]
  },
  {
   "cell_type": "code",
   "execution_count": 17,
   "metadata": {},
   "outputs": [
    {
     "data": {
      "image/png": "[encoded data removed]",
      "text/plain": [
       "<matplotlib.figure.Figure at 0xb642ba8>"
      ]
     },
     "metadata": {},
     "output_type": "display_data"
    }
   ],
   "source": [
    "died_by_class, surv_by_class = group_survivors_by('Pclass')\n",
    "\n",
    "generate_combined_bar_chart([{'label': 'Died', 'value': died_by_class}, {'label': 'Survived', 'value': surv_by_class}], \n",
    "                    \"Passenger's ticket class\", 'Number of passangers', \"Survival rate per passenger's ticket class\", \n",
    "                   ('Class 1', 'Class 2', 'Class 3'))"
   ]
  },
  {
   "cell_type": "markdown",
   "metadata": {},
   "source": [
    "This chart illustrates that most of the deaths were passengers with third class tickets. Of the 491 passengers with third class tickets, 372 died and only 119 survived, this means that only 30% of the third class passengers survived the Titanic.\n",
    "\n",
    "Passengers with second class tickets had better survival rates, being this rate about 50%. Of the 184 passengers, 97 of them died and 87 survived.\n",
    "\n",
    "For the first class passengers, the survival rate is notoriously higher than for any other passengers by ticket class, being about 60%. Of the 216 passengers with first class tickets, 136 of them survived and 80 died."
   ]
  },
  {
   "cell_type": "markdown",
   "metadata": {},
   "source": [
    "### Amount of passengers who died and survived by age group"
   ]
  },
  {
   "cell_type": "code",
   "execution_count": 18,
   "metadata": {
    "scrolled": false
   },
   "outputs": [
    {
     "data": {
      "image/png": "[encoded data removed]",
      "text/plain": [
       "<matplotlib.figure.Figure at 0xba52588>"
      ]
     },
     "metadata": {},
     "output_type": "display_data"
    }
   ],
   "source": [
    "died_by_age_group, surv_by_age_group = group_survivors_by('Age group')\n",
    "\n",
    "generate_combined_bar_chart([{'label': 'Died', 'value': died_by_age_group}, {'label': 'Survived', 'value': surv_by_age_group}], \n",
    "                    \"Passenger's age group\", 'Number of passangers', \"Survival rate per passenger's age group\", \n",
    "                   ('Group 1', 'Group 2', 'Group 3'))"
   ]
  },
  {
   "cell_type": "markdown",
   "metadata": {},
   "source": [
    "In this plot we can see that passengers of age group 1 (from 0 to 17 years old) had the better survival rates, around 53% of them survived (61 passengers of 114).\n",
    "\n",
    "For age group 2 (passengers from 18 to 40 years), the survival rates are the lowest of all three age groups, being 38%. Of the 451 passengers in age group 2, only 174 of them survived.\n",
    "\n",
    "Age group 3 passengers (from 41 to 80 years old) had a survival rate of 36% (that is, 55 of 150 passengers)."
   ]
  },
  {
   "cell_type": "markdown",
   "metadata": {},
   "source": [
    "### Amount of passengers who died and survived by gender"
   ]
  },
  {
   "cell_type": "code",
   "execution_count": 19,
   "metadata": {},
   "outputs": [
    {
     "data": {
      "image/png": "[encoded data removed]",
      "text/plain": [
       "<matplotlib.figure.Figure at 0xbbf2f60>"
      ]
     },
     "metadata": {},
     "output_type": "display_data"
    }
   ],
   "source": [
    "died_by_gender, surv_by_gender = group_survivors_by('Sex')\n",
    "\n",
    "generate_combined_bar_chart([{'label': 'Died', 'value': died_by_gender}, {'label': 'Survived', 'value': surv_by_gender}], \n",
    "                    \"Passenger's ticket class\", 'Number of passangers', \"Survival rate per passenger's ticket class\", \n",
    "                   ('Female', 'Male'))"
   ]
  },
  {
   "cell_type": "markdown",
   "metadata": {},
   "source": [
    "Here we can see that of the 314 females in our data set, 233 of them survived and 81 on them died, representing a survival rate of about 75%.\n",
    "\n",
    "Males on Titanic had a survival rate of 18%. Only 109 male passengers survived of the 577 males in the data set."
   ]
  },
  {
   "cell_type": "markdown",
   "metadata": {},
   "source": [
    "## 5. What are the survival rates when pairs of variables are combined?"
   ]
  },
  {
   "cell_type": "markdown",
   "metadata": {},
   "source": [
    "The answer this question I'll create a function to group the data set by two given variables and print the results"
   ]
  },
  {
   "cell_type": "code",
   "execution_count": 20,
   "metadata": {
    "collapsed": true
   },
   "outputs": [],
   "source": [
    "def calculate_survival_rates_two_variables(var1, var2, n_output):\n",
    "    \"\"\"Calculates the survival rates given two variables.\n",
    "    \n",
    "    var1 and var2: strings, corresponding to names of columns of the data set\n",
    "    n_output: an integer (2 or 3) that refers to the number of groups that will be returned, depending on the variables.\n",
    "    \"\"\"\n",
    "    if var1 in ('Age', 'Age group') or var2 in ('Age', 'Age group'):\n",
    "        df = titanic_valid_ages\n",
    "    else:\n",
    "        df = titanic_df\n",
    "    count_var1_var2 = df.groupby([var1, var2], as_index = False).size().reset_index(name='count')\n",
    "    \n",
    "    var1_var2 = df.groupby(['Survived', var1, var2], as_index = False).size().reset_index(name='count')\n",
    "\n",
    "    surv_var1_var2 = var1_var2.iloc[((-3)*n_output):].copy()\n",
    "    surv_var1_var2.index = range(3*n_output)\n",
    "    surv_var1_var2['N pass'] = count_var1_var2['count']\n",
    "    surv_var1_var2['Surv rate'] = (surv_var1_var2['count'] * 100)/surv_var1_var2['N pass']\n",
    "    \n",
    "    if n_output == 2:\n",
    "        output1 = surv_var1_var2.iloc[:3]\n",
    "        output2 = surv_var1_var2.iloc[-3:]\n",
    "        output2.index = range(3)\n",
    "        print output1, '\\n', output2\n",
    "        return output1, output2\n",
    "    elif n_output == 3:\n",
    "        output1 = surv_var1_var2.iloc[:3]\n",
    "        output2 = surv_var1_var2.iloc[3:6]\n",
    "        output2.index = range(3)\n",
    "        output3 = surv_var1_var2.iloc[-3:]\n",
    "        output3.index = range(3)\n",
    "        print output1, '\\n', output2, '\\n', output3\n",
    "        return output1, output2, output3"
   ]
  },
  {
   "cell_type": "markdown",
   "metadata": {},
   "source": [
    "### Survival rate combining gender and ticket class"
   ]
  },
  {
   "cell_type": "code",
   "execution_count": 21,
   "metadata": {
    "scrolled": true
   },
   "outputs": [
    {
     "name": "stdout",
     "output_type": "stream",
     "text": [
      "   Survived     Sex  Pclass  count  N pass  Surv rate\n",
      "0         1  female       1     91      94  96.808511\n",
      "1         1  female       2     70      76  92.105263\n",
      "2         1  female       3     72     144  50.000000 \n",
      "   Survived   Sex  Pclass  count  N pass  Surv rate\n",
      "0         1  male       1     45     122  36.885246\n",
      "1         1  male       2     17     108  15.740741\n",
      "2         1  male       3     47     347  13.544669\n"
     ]
    }
   ],
   "source": [
    "female_class, male_class = calculate_survival_rates_two_variables('Sex', 'Pclass', 2)"
   ]
  },
  {
   "cell_type": "code",
   "execution_count": 22,
   "metadata": {
    "scrolled": false
   },
   "outputs": [
    {
     "data": {
      "image/png": "[encoded data removed]",
      "text/plain": [
       "<matplotlib.figure.Figure at 0xbcd0160>"
      ]
     },
     "metadata": {},
     "output_type": "display_data"
    }
   ],
   "source": [
    "generate_combined_bar_chart([{'label': 'Female', 'value': female_class['Surv rate']}, \n",
    "                             {'label': 'Male', 'value': male_class['Surv rate']}], \n",
    "                            \"Passenger's ticket class\", 'Survival rate (%)', \n",
    "                            \"Survival rate per passenger's ticket class and gender\", ('Class 1', 'Class 2', 'Class 3'))"
   ]
  },
  {
   "cell_type": "markdown",
   "metadata": {},
   "source": [
    "In the printed data sets and the bar chart that represents them, it can be seen that women had way higher survival rates than men. Women with first and second class tickets had a survival rate higher than 90%, while women with third class tickets had a 50% survival rate.\n",
    "\n",
    "Men with first class tickets had only a 36% survival rate, while men with second and third class tickets had a 15 and 13 percent survival rate respectively. "
   ]
  },
  {
   "cell_type": "markdown",
   "metadata": {},
   "source": [
    "### Survival rate combining gender and age group"
   ]
  },
  {
   "cell_type": "code",
   "execution_count": 23,
   "metadata": {},
   "outputs": [
    {
     "name": "stdout",
     "output_type": "stream",
     "text": [
      "   Survived     Sex  Age group  count  N pass  Surv rate\n",
      "0         1  female          1     38      55  69.090909\n",
      "1         1  female          2    122     158  77.215190\n",
      "2         1  female          3     37      48  77.083333 \n",
      "   Survived   Sex  Age group  count  N pass  Surv rate\n",
      "0         1  male          1     23      58  39.655172\n",
      "1         1  male          2     52     293  17.747440\n",
      "2         1  male          3     18     102  17.647059\n"
     ]
    }
   ],
   "source": [
    "female_age, male_age = calculate_survival_rates_two_variables('Sex', 'Age group', 2)"
   ]
  },
  {
   "cell_type": "code",
   "execution_count": 24,
   "metadata": {},
   "outputs": [
    {
     "data": {
      "image/png": "[encoded data removed]",
      "text/plain": [
       "<matplotlib.figure.Figure at 0xc47f6a0>"
      ]
     },
     "metadata": {},
     "output_type": "display_data"
    }
   ],
   "source": [
    "generate_combined_bar_chart([{'label': 'Female', 'value': female_age['Surv rate']}, \n",
    "                             {'label': 'Male', 'value': male_age['Surv rate']}], \n",
    "                            \"Passenger's age group\", 'Survival rate (%)', \n",
    "                            \"Survival rate per passenger's age group and gender\", ('Group 1', 'Group 2', 'Group 3'))"
   ]
  },
  {
   "cell_type": "markdown",
   "metadata": {},
   "source": [
    "In this chart we can see that again, women had the best survival rates than men, being 69% for age group one, and 77% for age groups 2 a 3.\n",
    "\n",
    "Group one males (from 0 to 17 years old) had a survival rate way higher than men of other age groups, being a little more than the double. Group one males survival rate was 39%, while for group two and three the survival rate was 17%.\n",
    "\n",
    "It is interesting to note that although Group one males had a better survival rate than any other males by age group, group one women had the lowest survival rate compared with women in other age groups."
   ]
  },
  {
   "cell_type": "markdown",
   "metadata": {},
   "source": [
    "### Survival rate combining ticket class and age group"
   ]
  },
  {
   "cell_type": "code",
   "execution_count": 25,
   "metadata": {
    "scrolled": true
   },
   "outputs": [
    {
     "name": "stdout",
     "output_type": "stream",
     "text": [
      "   Survived  Age group  Pclass  count  N pass  Surv rate\n",
      "0         1          1       1     11      12  91.666667\n",
      "1         1          1       2     21      23  91.304348\n",
      "2         1          1       3     29      78  37.179487 \n",
      "   Survived  Age group  Pclass  count  N pass  Surv rate\n",
      "0         1          2       1     72      98  73.469388\n",
      "1         1          2       2     49     116  42.241379\n",
      "2         1          2       3     53     237  22.362869 \n",
      "   Survived  Age group  Pclass  count  N pass  Surv rate\n",
      "0         1          3       1     39      76  51.315789\n",
      "1         1          3       2     13      34  38.235294\n",
      "2         1          3       3      3      40   7.500000\n"
     ]
    }
   ],
   "source": [
    "age_group1_class, age_group2_class, age_group3_class = calculate_survival_rates_two_variables('Age group', 'Pclass', 3)"
   ]
  },
  {
   "cell_type": "code",
   "execution_count": 26,
   "metadata": {},
   "outputs": [
    {
     "data": {
      "image/png": "[encoded data removed]",
      "text/plain": [
       "<matplotlib.figure.Figure at 0xc6ff2e8>"
      ]
     },
     "metadata": {},
     "output_type": "display_data"
    }
   ],
   "source": [
    "generate_combined_bar_chart([{'label': 'Age group 1', 'value': age_group1_class['Surv rate']}, \n",
    "                             {'label': 'Age group 2', 'value': age_group2_class['Surv rate']},\n",
    "                             {'label': 'Age group 3', 'value': age_group3_class['Surv rate']}],\n",
    "                            \"Passenger's ticket class\", 'Survival rate (%)', \n",
    "                            \"Survival rate per passenger's age group and ticket class\", ('Class 1', 'Class 2', 'Class 3'))"
   ]
  },
  {
   "cell_type": "markdown",
   "metadata": {},
   "source": [
    "Here we can see that passengers from age group one and class one and two tickets had more than 90% probabilities to survive the Titanic. \n",
    "\n",
    "We can also see that only 7% of passengers from age group 3 (from 40 to 80 years old) and ticket's class three survived the Titanic."
   ]
  },
  {
   "cell_type": "markdown",
   "metadata": {},
   "source": [
    "## 6. What is the approximate ticket fare by ticket class and departure port?"
   ]
  },
  {
   "cell_type": "markdown",
   "metadata": {},
   "source": [
    "To see how the tickets fares are distributed, I'm going to plot the tickets prices per passenger ticket class"
   ]
  },
  {
   "cell_type": "code",
   "execution_count": 27,
   "metadata": {},
   "outputs": [
    {
     "data": {
      "text/plain": [
       "<matplotlib.axes._subplots.AxesSubplot at 0xc4e56a0>"
      ]
     },
     "execution_count": 27,
     "metadata": {},
     "output_type": "execute_result"
    },
    {
     "data": {
      "image/png": "[encoded data removed]",
      "text/plain": [
       "<matplotlib.figure.Figure at 0xbbf27f0>"
      ]
     },
     "metadata": {},
     "output_type": "display_data"
    }
   ],
   "source": [
    "titanic_df.plot(kind='scatter', x='Pclass', y='Fare', xticks =[1,2,3])"
   ]
  },
  {
   "cell_type": "markdown",
   "metadata": {},
   "source": [
    "There seems to be outliers in some of the first class ticket values, as the maximum value for first class ticket is about 280 and there are some of price 512. Checking the data frame, those three values correspond to first class passengers but they did not have any siblings or spouses registered in the data set.\n",
    "\n",
    "Also, there are some tickets whose price is zero, those can be crew members or people who traveled for free (someone else payed for their ticket). As I'm interested in knowing the ticket fare per class, I will not take into account these outliers.\n",
    "\n",
    "To dismiss the outliers in the approximate ticket fare calculations, I decided to use the median."
   ]
  },
  {
   "cell_type": "code",
   "execution_count": 28,
   "metadata": {},
   "outputs": [
    {
     "data": {
      "text/html": [
       "<div>\n",
       "<style>\n",
       "    .dataframe thead tr:only-child th {\n",
       "        text-align: right;\n",
       "    }\n",
       "\n",
       "    .dataframe thead th {\n",
       "        text-align: left;\n",
       "    }\n",
       "\n",
       "    .dataframe tbody tr th {\n",
       "        vertical-align: top;\n",
       "    }\n",
       "</style>\n",
       "<table border=\"1\" class=\"dataframe\">\n",
       "  <thead>\n",
       "    <tr style=\"text-align: right;\">\n",
       "      <th></th>\n",
       "      <th></th>\n",
       "      <th>PassengerId</th>\n",
       "      <th>Survived</th>\n",
       "      <th>Age</th>\n",
       "      <th>SibSp</th>\n",
       "      <th>Parch</th>\n",
       "      <th>Fare</th>\n",
       "    </tr>\n",
       "    <tr>\n",
       "      <th>Pclass</th>\n",
       "      <th>Embarked</th>\n",
       "      <th></th>\n",
       "      <th></th>\n",
       "      <th></th>\n",
       "      <th></th>\n",
       "      <th></th>\n",
       "      <th></th>\n",
       "    </tr>\n",
       "  </thead>\n",
       "  <tbody>\n",
       "    <tr>\n",
       "      <th rowspan=\"3\" valign=\"top\">1</th>\n",
       "      <th>C</th>\n",
       "      <td>453.0</td>\n",
       "      <td>1.0</td>\n",
       "      <td>36.5</td>\n",
       "      <td>0.0</td>\n",
       "      <td>0.0</td>\n",
       "      <td>78.2667</td>\n",
       "    </tr>\n",
       "    <tr>\n",
       "      <th>Q</th>\n",
       "      <td>329.5</td>\n",
       "      <td>0.5</td>\n",
       "      <td>38.5</td>\n",
       "      <td>1.5</td>\n",
       "      <td>0.0</td>\n",
       "      <td>90.0000</td>\n",
       "    </tr>\n",
       "    <tr>\n",
       "      <th>S</th>\n",
       "      <td>493.0</td>\n",
       "      <td>1.0</td>\n",
       "      <td>37.0</td>\n",
       "      <td>0.0</td>\n",
       "      <td>0.0</td>\n",
       "      <td>52.0000</td>\n",
       "    </tr>\n",
       "    <tr>\n",
       "      <th rowspan=\"3\" valign=\"top\">2</th>\n",
       "      <th>C</th>\n",
       "      <td>390.0</td>\n",
       "      <td>1.0</td>\n",
       "      <td>25.0</td>\n",
       "      <td>1.0</td>\n",
       "      <td>0.0</td>\n",
       "      <td>24.0000</td>\n",
       "    </tr>\n",
       "    <tr>\n",
       "      <th>Q</th>\n",
       "      <td>323.0</td>\n",
       "      <td>1.0</td>\n",
       "      <td>43.5</td>\n",
       "      <td>0.0</td>\n",
       "      <td>0.0</td>\n",
       "      <td>12.3500</td>\n",
       "    </tr>\n",
       "    <tr>\n",
       "      <th>S</th>\n",
       "      <td>439.0</td>\n",
       "      <td>0.0</td>\n",
       "      <td>30.0</td>\n",
       "      <td>0.0</td>\n",
       "      <td>0.0</td>\n",
       "      <td>13.5000</td>\n",
       "    </tr>\n",
       "    <tr>\n",
       "      <th rowspan=\"3\" valign=\"top\">3</th>\n",
       "      <th>C</th>\n",
       "      <td>483.0</td>\n",
       "      <td>0.0</td>\n",
       "      <td>20.0</td>\n",
       "      <td>0.0</td>\n",
       "      <td>0.0</td>\n",
       "      <td>7.8958</td>\n",
       "    </tr>\n",
       "    <tr>\n",
       "      <th>Q</th>\n",
       "      <td>400.5</td>\n",
       "      <td>0.0</td>\n",
       "      <td>21.5</td>\n",
       "      <td>0.0</td>\n",
       "      <td>0.0</td>\n",
       "      <td>7.7500</td>\n",
       "    </tr>\n",
       "    <tr>\n",
       "      <th>S</th>\n",
       "      <td>432.0</td>\n",
       "      <td>0.0</td>\n",
       "      <td>25.0</td>\n",
       "      <td>0.0</td>\n",
       "      <td>0.0</td>\n",
       "      <td>8.0500</td>\n",
       "    </tr>\n",
       "  </tbody>\n",
       "</table>\n",
       "</div>"
      ],
      "text/plain": [
       "                 PassengerId  Survived   Age  SibSp  Parch     Fare\n",
       "Pclass Embarked                                                    \n",
       "1      C               453.0       1.0  36.5    0.0    0.0  78.2667\n",
       "       Q               329.5       0.5  38.5    1.5    0.0  90.0000\n",
       "       S               493.0       1.0  37.0    0.0    0.0  52.0000\n",
       "2      C               390.0       1.0  25.0    1.0    0.0  24.0000\n",
       "       Q               323.0       1.0  43.5    0.0    0.0  12.3500\n",
       "       S               439.0       0.0  30.0    0.0    0.0  13.5000\n",
       "3      C               483.0       0.0  20.0    0.0    0.0   7.8958\n",
       "       Q               400.5       0.0  21.5    0.0    0.0   7.7500\n",
       "       S               432.0       0.0  25.0    0.0    0.0   8.0500"
      ]
     },
     "execution_count": 28,
     "metadata": {},
     "output_type": "execute_result"
    }
   ],
   "source": [
    "# Analizing the ticket's fare per ticket class and port\n",
    "\n",
    "titanic_df.groupby(['Pclass', 'Embarked']).median()"
   ]
  },
  {
   "cell_type": "markdown",
   "metadata": {},
   "source": [
    "Here can be seen the median price for ticket class and port. Now I'll represent these results in a plot. To do that, I'll first create a grouped data set containing the passengers' ticket class and embarked port and then write a function to create new data frames with the median prices per ticket class by each departure port:"
   ]
  },
  {
   "cell_type": "code",
   "execution_count": 29,
   "metadata": {
    "collapsed": true
   },
   "outputs": [],
   "source": [
    "titanic_class_emb = titanic_df.groupby(['Pclass', 'Embarked'], as_index = False).median()\n",
    "\n",
    "def get_fare_by_dept_port(embarked_port):\n",
    "    \"\"\" Segregates the data by the given departure port\n",
    "    \n",
    "    embarked_port should be a string, corresponding to the fist letter of the departure port: 'C', 'Q' or 'S'\n",
    "    \"\"\"\n",
    "    port_fare = titanic_class_emb[titanic_class_emb['Embarked'] == embarked_port]  \n",
    "    port_fare = port_fare.loc[:,('Fare')]\n",
    "    return port_fare"
   ]
  },
  {
   "cell_type": "markdown",
   "metadata": {
    "collapsed": true
   },
   "source": [
    "I'll apply the function to obtain the median ticket fare price by class for each departure port "
   ]
  },
  {
   "cell_type": "code",
   "execution_count": 30,
   "metadata": {
    "collapsed": true
   },
   "outputs": [],
   "source": [
    "fare_emb_c = get_fare_by_dept_port('C')\n",
    "fare_emb_q = get_fare_by_dept_port('Q')\n",
    "fare_emb_s = get_fare_by_dept_port('S')"
   ]
  },
  {
   "cell_type": "markdown",
   "metadata": {},
   "source": [
    "And then I'll plot the median prices by ticket class and port in a bar chart."
   ]
  },
  {
   "cell_type": "code",
   "execution_count": 31,
   "metadata": {},
   "outputs": [
    {
     "data": {
      "image/png": "[encoded data removed]",
      "text/plain": [
       "<matplotlib.figure.Figure at 0xc6ffc50>"
      ]
     },
     "metadata": {},
     "output_type": "display_data"
    }
   ],
   "source": [
    "generate_combined_bar_chart([{'label': 'Cherbourg', 'value': fare_emb_c}, {'label': 'Queenstown', 'value': fare_emb_q}, \n",
    "                    {'label': 'Southhampton', 'value': fare_emb_s}], \"Passenger's ticket class\", 'Ticket price',\n",
    "                   \"Median ticket price per ticket class\", ('Class 1', 'Class 2', 'Class 3'))"
   ]
  },
  {
   "cell_type": "markdown",
   "metadata": {},
   "source": [
    "In this plot we can see that all of the third class tickets had almost the same price for of the three departure ports, being this price around 7.9.\n",
    "\n",
    "For second class tickets, the median prices from Southhampton and Queenstown ports are very similar, around 13, while in Cherbourg is 24.\n",
    "\n",
    "The first class tickets' median for Cherbourg port is 78.2, for Queenstown 90.0 and for Southhampton 58.0. This difference in prices can be related to the different fist class cabins, some of them might have been more expensive than others, so the ticket's prices can be more related to the type of cabin than to the departure port.\n",
    "\n",
    "As there were no units for the tickets prices in the data set (or the kaggle explanation) I haven't used any unit to refer to those. Although, it is likely that the unit is Sterling Pounds (GBP)."
   ]
  },
  {
   "cell_type": "markdown",
   "metadata": {},
   "source": [
    "## Conclusions"
   ]
  },
  {
   "cell_type": "markdown",
   "metadata": {},
   "source": [
    "Taking into consideration a sample of 891 of the 2224 passengers of the Titanic, I could get some statistics about the passengers and survival rates according to different factors. \n",
    "\n",
    "It is clear that what we saw represented in the Titanic movie about giving priority to women and children to enter in the lifeboats was actually applied, as the passengers who had the most survival rates by group are:\n",
    "- Female passengers\n",
    "- Passengers from 0 to 17 years old\n",
    "- Passengers with first class tickets\n",
    "\n",
    "\n",
    "Regarding the tickets prices, there does not seem to be a correlation between the first class ticket's price and the departure port. This could be because the variance in prices was related to the cabin in the boat rather than the departure port. It would have been helpful to have more information about the cabin variable to test this assumption. As there are a lot of missing values in this variable, I did not consider to use it. \n",
    "\n",
    "\n",
    "It is important to note that there are some limitations related to this data: there are some passengers whose age is not in the data set, it would have been more convenient to have the age of all the passengers to calculate more accurate statistics about the data, as well as it would have been helpful to have data about more passengers. It would also have been helpful to have information about the Titanic crew, to see if the tickets prices that appear as zero are from crew members and to calculate statistics about their survival rates."
   ]
  },
  {
   "cell_type": "markdown",
   "metadata": {},
   "source": [
    "## References"
   ]
  },
  {
   "cell_type": "markdown",
   "metadata": {},
   "source": [
    "Data set: https://www.kaggle.com/c/titanic/data"
   ]
  },
  {
   "cell_type": "markdown",
   "metadata": {},
   "source": [
    "These are the most important references I consulted while working on this project:\n",
    "- https://matplotlib.org/users/pyplot_tutorial.html \n",
    "- https://stackoverflow.com/questions/12236566/setting-different-color-for-each-series-in-scatter-plot-on-matplotlib\n",
    "- https://stackoverflow.com/questions/31304131/pandas-show-multiple-bar-graphs-on-a-chart\n",
    "- https://stackoverflow.com/questions/21090316/plotting-pandas-dataframes-in-to-pie-charts-using-matplotlib\n",
    "- https://stackoverflow.com/questions/34962104/pandas-how-can-i-use-the-apply-function-for-a-single-column \n",
    "- https://stackoverflow.com/questions/12555323/adding-new-column-to-existing-dataframe-in-python-pandas\n",
    "- https://pythonspot.com/en/matplotlib-bar-chart/\n",
    "- https://matplotlib.org/users/colors.html\n",
    "- https://matplotlib.org/devdocs/api/_as_gen/matplotlib.pyplot.xticks.html \n",
    "- https://stackoverflow.com/questions/4700614/how-to-put-the-legend-out-of-the-plot\n",
    "- https://pandas.pydata.org/pandas-docs/stable/generated/pandas.isnull.html \n",
    "- https://stackoverflow.com/questions/20625582/how-to-deal-with-settingwithcopywarning-in-pandas\n",
    "- https://stackoverflow.com/questions/19609631/python-changing-row-index-of-pandas-data-frame"
   ]
  }
 ],
 "metadata": {
  "kernelspec": {
   "display_name": "Python 2",
   "language": "python",
   "name": "python2"
  },
  "language_info": {
   "codemirror_mode": {
    "name": "ipython",
    "version": 2
   },
   "file_extension": ".py",
   "mimetype": "text/x-python",
   "name": "python",
   "nbconvert_exporter": "python",
   "pygments_lexer": "ipython2",
   "version": "2.7.13"
  }
 },
 "nbformat": 4,
 "nbformat_minor": 2
}
